{
 "cells": [
  {
   "cell_type": "code",
   "execution_count": 1,
   "metadata": {
    "collapsed": false
   },
   "outputs": [
    {
     "name": "stdout",
     "output_type": "stream",
     "text": [
      "\n",
      "Downloading...\n",
      "Dataset already downloaded. Did not download twice.\n",
      "\n",
      "Extracting...\n",
      "Dataset already extracted. Did not extract twice.\n",
      "\n",
      "Converting...\n",
      "INFO: each dataset's element are of shape 3*32*32:\n",
      "\"print(X.shape)\" --> \"(50000, 3, 32, 32)\"\n",
      "\n",
      "From the Caffe documentation: \n",
      "The conventional blob dimensions for batches of image data are number N x channel K x height H x width W.\n",
      "\n",
      "Data is fully loaded, now truly converting.\n",
      "Conversion successfully done to \"/home/kez040/data/cifar_10_caffe_hdf5\".\n",
      "\n"
     ]
    }
   ],
   "source": [
    "import copy\n",
    "import os\n",
    "from subprocess import call\n",
    "\n",
    "import numpy as np\n",
    "import sklearn\n",
    "import sklearn.cross_validation\n",
    "import sklearn.linear_model\n",
    "\n",
    "import h5py\n",
    "\n",
    "print(\"\")\n",
    "\n",
    "print(\"Downloading...\")\n",
    "if not os.path.exists(\"cifar-10-python.tar.gz\"):\n",
    "    call(\n",
    "        \"wget http://www.cs.toronto.edu/~kriz/cifar-10-python.tar.gz\",\n",
    "        shell=True\n",
    "    )\n",
    "    print(\"Downloading done.\\n\")\n",
    "else:\n",
    "    print(\"Dataset already downloaded. Did not download twice.\\n\")\n",
    "\n",
    "\n",
    "print(\"Extracting...\")\n",
    "cifar_python_directory = os.path.abspath(\"cifar-10-batches-py\")\n",
    "if not os.path.exists(cifar_python_directory):\n",
    "    call(\n",
    "        \"tar -zxvf cifar-10-python.tar.gz\",\n",
    "        shell=True\n",
    "    )\n",
    "    print(\"Extracting successfully done to {}.\".format(cifar_python_directory))\n",
    "else:\n",
    "    print(\"Dataset already extracted. Did not extract twice.\\n\")\n",
    "\n",
    "\n",
    "print(\"Converting...\")\n",
    "cifar_caffe_directory = os.path.abspath('cifar_10_caffe_hdf5/')\n",
    "if not os.path.exists(cifar_caffe_directory):\n",
    "\n",
    "    def unpickle(file):\n",
    "        import cPickle\n",
    "        fo = open(file, 'rb')\n",
    "        dict = cPickle.load(fo)\n",
    "        fo.close()\n",
    "        return dict\n",
    "\n",
    "    def shuffle_data(data, labels):\n",
    "        data, _, labels, _ = sklearn.cross_validation.train_test_split(\n",
    "            data, labels, test_size=0.0, random_state=42\n",
    "        )\n",
    "        return data, labels\n",
    "\n",
    "    def load_data(train_batches):\n",
    "        data = []\n",
    "        labels = []\n",
    "        for data_batch_i in train_batches:\n",
    "            d = unpickle(\n",
    "                os.path.join(cifar_python_directory, data_batch_i)\n",
    "            )\n",
    "            data.append(d['data'])\n",
    "            labels.append(np.array(d['labels']))\n",
    "        # Merge training batches on their first dimension\n",
    "        data = np.concatenate(data)\n",
    "        labels = np.concatenate(labels)\n",
    "        length = len(labels)\n",
    "\n",
    "        data, labels = shuffle_data(data, labels)\n",
    "        return data.reshape(length, 3, 32, 32), labels\n",
    "\n",
    "    X, y = load_data(\n",
    "        [\"data_batch_{}\".format(i) for i in range(1, 6)]\n",
    "    )\n",
    "\n",
    "    Xt, yt = load_data([\"test_batch\"])\n",
    "\n",
    "    print(\"INFO: each dataset's element are of shape 3*32*32:\")\n",
    "    print('\"print(X.shape)\" --> \"{}\"\\n'.format(X.shape))\n",
    "    print(\"From the Caffe documentation: \")\n",
    "    print(\"The conventional blob dimensions for batches of image data \"\n",
    "          \"are number N x channel K x height H x width W.\\n\")\n",
    "\n",
    "    print(\"Data is fully loaded, now truly converting.\")\n",
    "\n",
    "    os.makedirs(cifar_caffe_directory)\n",
    "    train_filename = os.path.join(cifar_caffe_directory, 'train.h5')\n",
    "    test_filename = os.path.join(cifar_caffe_directory, 'test.h5')\n",
    "\n",
    "    comp_kwargs = {'compression': 'gzip', 'compression_opts': 1}\n",
    "    # Train\n",
    "    with h5py.File(train_filename, 'w') as f:\n",
    "        f.create_dataset('data', data=X, **comp_kwargs)\n",
    "        f.create_dataset('label', data=y.astype(np.int_), **comp_kwargs)\n",
    "    with open(os.path.join(cifar_caffe_directory, 'train.txt'), 'w') as f:\n",
    "        f.write(train_filename + '\\n')\n",
    "    # Test\n",
    "    with h5py.File(test_filename, 'w') as f:\n",
    "        f.create_dataset('data', data=Xt, **comp_kwargs)\n",
    "        f.create_dataset('label', data=yt.astype(np.int_), **comp_kwargs)\n",
    "    with open(os.path.join(cifar_caffe_directory, 'test.txt'), 'w') as f:\n",
    "        f.write(test_filename + '\\n')\n",
    "\n",
    "    print('Conversion successfully done to \"{}\".\\n'.format(cifar_caffe_directory))\n",
    "else:\n",
    "    print(\"Conversion was already done. Did not convert twice.\\n\")"
   ]
  },
  {
   "cell_type": "code",
   "execution_count": 3,
   "metadata": {
    "collapsed": false
   },
   "outputs": [
    {
     "ename": "SyntaxError",
     "evalue": "invalid syntax (modules.py, line 173)",
     "output_type": "error",
     "traceback": [
      "\u001b[1;36m  File \u001b[1;32m\"modules.py\"\u001b[1;36m, line \u001b[1;32m173\u001b[0m\n\u001b[1;33m    self.image_list = [f'cifar_10_caffe_hdf5/{im.decode()}' for im in image_names]\u001b[0m\n\u001b[1;37m                                                          ^\u001b[0m\n\u001b[1;31mSyntaxError\u001b[0m\u001b[1;31m:\u001b[0m invalid syntax\n"
     ]
    }
   ],
   "source": [
    "from modules import TsneImage   \n",
    " \n",
    "image = EmbeddingsProjection()\n",
    "image.path2data = 'cifar_10_caffe_hdf5'\n",
    "image.load_data()\n",
    "image.calculate_projection()\n",
    "image.create_image()"
   ]
  },
  {
   "cell_type": "code",
   "execution_count": null,
   "metadata": {
    "collapsed": true
   },
   "outputs": [],
   "source": []
  }
 ],
 "metadata": {
  "kernelspec": {
   "display_name": "Python 2",
   "language": "python",
   "name": "python2"
  },
  "language_info": {
   "codemirror_mode": {
    "name": "ipython",
    "version": 2
   },
   "file_extension": ".py",
   "mimetype": "text/x-python",
   "name": "python",
   "nbconvert_exporter": "python",
   "pygments_lexer": "ipython2",
   "version": "2.7.12"
  }
 },
 "nbformat": 4,
 "nbformat_minor": 0
}
